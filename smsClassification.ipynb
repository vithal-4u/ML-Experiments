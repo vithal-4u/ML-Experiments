{
  "nbformat": 4,
  "nbformat_minor": 0,
  "metadata": {
    "colab": {
      "name": "smsClassification.ipynb",
      "provenance": [],
      "collapsed_sections": [],
      "include_colab_link": true
    },
    "kernelspec": {
      "name": "python3",
      "display_name": "Python 3"
    }
  },
  "cells": [
    {
      "cell_type": "markdown",
      "metadata": {
        "id": "view-in-github",
        "colab_type": "text"
      },
      "source": [
        "<a href=\"https://colab.research.google.com/github/vithal-4u/ML-Experiments/blob/master/smsClassification.ipynb\" target=\"_parent\"><img src=\"https://colab.research.google.com/assets/colab-badge.svg\" alt=\"Open In Colab\"/></a>"
      ]
    },
    {
      "cell_type": "code",
      "metadata": {
        "id": "Babn7pCmOIed",
        "colab_type": "code",
        "colab": {
          "base_uri": "https://localhost:8080/",
          "height": 474
        },
        "outputId": "eaae6310-0d70-489b-b24c-b9ebb5036a8b"
      },
      "source": [
        "import numpy as np\n",
        "import pandas as pd\n",
        "import string\n",
        "import nltk\n",
        "nltk.download('stopwords')\n",
        "from nltk.corpus import stopwords\n",
        "\n",
        "# Reading CSV file\n",
        "message_data = pd.read_csv(\"smsDataFormated.csv\",names=['Label','Body'],skiprows=1)\n",
        "message_data.head()\n",
        "\n",
        "message_data = message_data.rename(columns = {'Index':'Label','Body':'message'})\n",
        "message_data.groupby('Label').describe()\n",
        "\n",
        "message_data\n",
        "\n",
        "message_label = message_data['Label'].copy()\n",
        "message_body = message_data['message']\n",
        "print(\"Label ---\", message_label)\n",
        "print(\"Body ---\", message_body)"
      ],
      "execution_count": 5,
      "outputs": [
        {
          "output_type": "stream",
          "text": [
            "[nltk_data] Downloading package stopwords to /root/nltk_data...\n",
            "[nltk_data]   Unzipping corpora/stopwords.zip.\n",
            "Label --- 0       Network\n",
            "1       Network\n",
            "2       Network\n",
            "3       Network\n",
            "4       Network\n",
            "         ...   \n",
            "4626      Trans\n",
            "4627      Trans\n",
            "4628      Trans\n",
            "4629      Trans\n",
            "4630      Trans\n",
            "Name: Label, Length: 4631, dtype: object\n",
            "Body --- 0        You have 1 missed call(s) from +17342999521 ....\n",
            "1                                                 \"300457\n",
            "2                        Your single-use eBay PIN is 9013\n",
            "3        You have 1 missed call(s) from +911166793800 ...\n",
            "4        You have 1 missed call(s) from +911166795200 ...\n",
            "                              ...                        \n",
            "4626      \"Your a/c no. XXXXXXXX2251 is debited for Rs. 3\n",
            "4627      \"Your a/c no. XXXXXXXX2251 is debited for Rs. 6\n",
            "4628                                       \"Dear Customer\n",
            "4629     \"Personal Loan HDFC Bank offers For CTS FLAT1...\n",
            "4630     \"PNR-4634235664 Trn:12673 Dt:11-08-2016 Frm M...\n",
            "Name: message, Length: 4631, dtype: object\n"
          ],
          "name": "stdout"
        }
      ]
    },
    {
      "cell_type": "code",
      "metadata": {
        "id": "-u-R_C_TO7Px",
        "colab_type": "code",
        "colab": {}
      },
      "source": [
        "def text_preprocess(text):\n",
        "    text = str(text)\n",
        "    text = text.translate(str.maketrans('', '', string.punctuation))\n",
        "    text = [word for word in text.split() if word.lower() not in stopwords.words('english')]\n",
        "    return \" \".join(text)"
      ],
      "execution_count": 0,
      "outputs": []
    },
    {
      "cell_type": "code",
      "metadata": {
        "id": "yNEZETMZO_PB",
        "colab_type": "code",
        "colab": {
          "base_uri": "https://localhost:8080/",
          "height": 52
        },
        "outputId": "81554925-79bf-4d3b-e701-47df1407977b"
      },
      "source": [
        "message_body = message_body.apply(text_preprocess)\n",
        "message_body\n",
        "\n",
        "from sklearn.feature_extraction.text import TfidfVectorizer\n",
        "vectorizer = TfidfVectorizer(\"english\")\n",
        "message_mat = vectorizer.fit_transform(message_body)\n",
        "message_mat"
      ],
      "execution_count": 7,
      "outputs": [
        {
          "output_type": "execute_result",
          "data": {
            "text/plain": [
              "<4631x6969 sparse matrix of type '<class 'numpy.float64'>'\n",
              "\twith 46798 stored elements in Compressed Sparse Row format>"
            ]
          },
          "metadata": {
            "tags": []
          },
          "execution_count": 7
        }
      ]
    },
    {
      "cell_type": "code",
      "metadata": {
        "id": "eCbrXJbhPLMq",
        "colab_type": "code",
        "colab": {}
      },
      "source": [
        "#Splitting the data into test and train\n",
        "from sklearn.model_selection import train_test_split\n",
        "message_train, message_test, spam_nospam_train, spam_nospam_test = train_test_split(message_mat, \n",
        "                                                        message_label, \n",
        "                                                        test_size=0.2, random_state=0)"
      ],
      "execution_count": 0,
      "outputs": []
    },
    {
      "cell_type": "code",
      "metadata": {
        "id": "FFP0wssKPTmC",
        "colab_type": "code",
        "colab": {
          "base_uri": "https://localhost:8080/",
          "height": 160
        },
        "outputId": "77bb98f4-e62a-46c2-eab0-63bd2fdd6d64"
      },
      "source": [
        "#Creating LogisticRegression model\n",
        "from sklearn.linear_model import LogisticRegression\n",
        "from sklearn.metrics import accuracy_score\n",
        "\n",
        "Spam_model = LogisticRegression(solver='liblinear', penalty='l1')\n",
        "Spam_model.fit(message_train, spam_nospam_train)"
      ],
      "execution_count": 9,
      "outputs": [
        {
          "output_type": "stream",
          "text": [
            "/usr/local/lib/python3.6/dist-packages/sklearn/linear_model/logistic.py:469: FutureWarning: Default multi_class will be changed to 'auto' in 0.22. Specify the multi_class option to silence this warning.\n",
            "  \"this warning.\", FutureWarning)\n"
          ],
          "name": "stderr"
        },
        {
          "output_type": "execute_result",
          "data": {
            "text/plain": [
              "LogisticRegression(C=1.0, class_weight=None, dual=False, fit_intercept=True,\n",
              "                   intercept_scaling=1, l1_ratio=None, max_iter=100,\n",
              "                   multi_class='warn', n_jobs=None, penalty='l1',\n",
              "                   random_state=None, solver='liblinear', tol=0.0001, verbose=0,\n",
              "                   warm_start=False)"
            ]
          },
          "metadata": {
            "tags": []
          },
          "execution_count": 9
        }
      ]
    },
    {
      "cell_type": "code",
      "metadata": {
        "id": "xsdh6SR9PY3L",
        "colab_type": "code",
        "colab": {
          "base_uri": "https://localhost:8080/",
          "height": 52
        },
        "outputId": "a8627888-f2e1-45e6-d7ad-96e52ee61583"
      },
      "source": [
        "# Test the model with own data\n",
        "pred = Spam_model.predict(message_test)\n",
        "print(\"accuracy_score -- \",accuracy_score(spam_nospam_test,pred))\n",
        "few_test = vectorizer.transform( [\"+918870782800 is now available to take calls. To CALL BACK dial +918870782800.For Top HelloTunes, Airtel Call Manager or Live aarti,call 567892 (tollfree)\", \n",
        "                                \"Akshara and 6 others have added their photos & also match your partner preference. View photos on EzhavaMatrimony by visiting www.cmatri.in/?kNw8dB~n~grNC\",\n",
        "                                \"Rs.1000.00 was withdrawn using your HDFC Bank Card ending 0449 on 2017-04-01:21:31:34 at +CTS THORAIPAKKAM OATM. Avl bal: Rs.18834.44\",\n",
        "                                \"Trying to loose weight? Meet our Bariartic Surgeon ¡ Apollo Spectra Hospital MRC Nagar.Spectra Obesity Check ¡ Rs 840.T & C apply. Call 66862000.\",\n",
        "                                \"Dear Associate, Cognizant, offices in Chennai and Coimbatore will remain closed today, Dec 6, 2016. Note: Associates working on CIS, BPS and 24/7 support projects, please contact your manager for instructions.\"] )\n",
        "\n",
        "pred_few = Spam_model.predict(few_test)\n",
        "print(pred_few)"
      ],
      "execution_count": 15,
      "outputs": [
        {
          "output_type": "stream",
          "text": [
            "accuracy_score --  0.9050701186623517\n",
            "['Network' 'Promotional' 'Trans' 'Promotional' 'Promotional']\n"
          ],
          "name": "stdout"
        }
      ]
    }
  ]
}